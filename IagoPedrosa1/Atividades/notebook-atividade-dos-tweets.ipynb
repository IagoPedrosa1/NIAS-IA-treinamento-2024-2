{
 "cells": [
  {
   "cell_type": "code",
   "execution_count": 1,
   "id": "d243dc35",
   "metadata": {
    "_cell_guid": "b1076dfc-b9ad-4769-8c92-a6c4dae69d19",
    "_uuid": "8f2839f25d086af736a60e9eeb907d3b93b6e0e5",
    "execution": {
     "iopub.execute_input": "2024-05-08T00:11:03.070677Z",
     "iopub.status.busy": "2024-05-08T00:11:03.070072Z",
     "iopub.status.idle": "2024-05-08T00:11:04.005302Z",
     "shell.execute_reply": "2024-05-08T00:11:04.004037Z"
    },
    "papermill": {
     "duration": 0.942289,
     "end_time": "2024-05-08T00:11:04.008299",
     "exception": false,
     "start_time": "2024-05-08T00:11:03.066010",
     "status": "completed"
    },
    "tags": []
   },
   "outputs": [],
   "source": [
    "# This Python 3 environment comes with many helpful analytics libraries installed\n",
    "# It is defined by the kaggle/python Docker image: https://github.com/kaggle/docker-python\n",
    "# For example, here's several helpful packages to load\n",
    "\n",
    "import numpy as np # linear algebra\n",
    "import pandas as pd # data processing, CSV file I/O (e.g. pd.read_csv)\n",
    "\n",
    "# Input data files are available in the read-only \"../input/\" directory\n",
    "# For example, running this (by clicking run or pressing Shift+Enter) will list all files under the input directory\n",
    "\n",
    "import os\n",
    "for dirname, _, filenames in os.walk('/kaggle/input'):\n",
    "    for filename in filenames:\n",
    "        print(os.path.join(dirname, filename))\n",
    "\n",
    "# You can write up to 20GB to the current directory (/kaggle/working/) that gets preserved as output when you create a version using \"Save & Run All\" \n",
    "# You can also write temporary files to /kaggle/temp/, but they won't be saved outside of the current session"
   ]
  },
  {
   "cell_type": "code",
   "execution_count": 2,
   "id": "75a22e3e",
   "metadata": {
    "execution": {
     "iopub.execute_input": "2024-05-08T00:11:04.016092Z",
     "iopub.status.busy": "2024-05-08T00:11:04.015189Z",
     "iopub.status.idle": "2024-05-08T00:11:04.026798Z",
     "shell.execute_reply": "2024-05-08T00:11:04.025417Z"
    },
    "papermill": {
     "duration": 0.018276,
     "end_time": "2024-05-08T00:11:04.029706",
     "exception": false,
     "start_time": "2024-05-08T00:11:04.011430",
     "status": "completed"
    },
    "tags": []
   },
   "outputs": [
    {
     "name": "stdout",
     "output_type": "stream",
     "text": [
      "Quantos tweets existem nesse banco de dados ? R: 10\n",
      "O primeiro tweet é feliz!\n",
      "o número de tweets felizes é: 6\n",
      "O número de tweets tristes é: 2\n"
     ]
    }
   ],
   "source": [
    "\n",
    "\n",
    "tweets = [\n",
    "\"Wow, what a great day today!! #sunshine\",\n",
    "\"I feel sad about the things going on around us. #covid19\",\n",
    "\"I'm really excited to learn Python with @JovianML #zerotopandas\",\n",
    "\"This is a really nice song. #linkinpark\",\n",
    "\"The python programming language is useful for data science\",\n",
    "\"Why do bad things happen to me?\",\n",
    "\"Apple announces the release of the new iPhone 12. Fans are excited.\",\n",
    "\"Spent my day with family!! #happy\",\n",
    "\"Check out my blog post on common string operations in Python. #zerotopandas\",\n",
    "\"Freecodecamp has great coding tutorials. #skillup\"]\n",
    "\n",
    "happywords = ['great', 'excited', 'happy', 'nice', 'wonderful', 'amazing', 'good', 'best']\n",
    "\n",
    "sadwords = ['sad', 'bad', 'tragic', 'unhappy', 'worst']\n",
    "\n",
    "print('Quantos tweets existem nesse banco de dados ? R:',len(tweets))\n",
    "\n",
    "primeiro_tweet = tweets[0]\n",
    "i=0\n",
    "j=0\n",
    "\n",
    "for happy in happywords:\n",
    "    if happy in primeiro_tweet:\n",
    "        print('O primeiro tweet é feliz!')\n",
    "    \n",
    "for tweet in tweets:\n",
    "    for happy in happywords:\n",
    "            if happy in tweet:\n",
    "                i = i+1\n",
    "                \n",
    "                \n",
    "    for sad in sadwords:\n",
    "        if sad in tweet:\n",
    "            j = j+1\n",
    "            \n",
    "print('o número de tweets felizes é:', i)\n",
    "print('O número de tweets tristes é:',j)\n",
    "           \n",
    "                \n",
    "\n",
    "            \n",
    "        \n",
    "    \n",
    "            \n",
    "            \n",
    "            \n",
    "                \n",
    "               \n",
    "        \n",
    "            \n",
    "\n",
    "\n",
    "\n",
    "    \n",
    "    \n",
    "    \n",
    "    \n",
    "    \n",
    "\n"
   ]
  },
  {
   "cell_type": "markdown",
   "id": "9b3e5665",
   "metadata": {
    "papermill": {
     "duration": 0.001956,
     "end_time": "2024-05-08T00:11:04.034267",
     "exception": false,
     "start_time": "2024-05-08T00:11:04.032311",
     "status": "completed"
    },
    "tags": []
   },
   "source": []
  },
  {
   "cell_type": "code",
   "execution_count": null,
   "id": "1ad4bebd",
   "metadata": {
    "papermill": {
     "duration": 0.001849,
     "end_time": "2024-05-08T00:11:04.038820",
     "exception": false,
     "start_time": "2024-05-08T00:11:04.036971",
     "status": "completed"
    },
    "tags": []
   },
   "outputs": [],
   "source": []
  }
 ],
 "metadata": {
  "kaggle": {
   "accelerator": "none",
   "dataSources": [],
   "dockerImageVersionId": 30698,
   "isGpuEnabled": false,
   "isInternetEnabled": false,
   "language": "python",
   "sourceType": "notebook"
  },
  "kernelspec": {
   "display_name": "Python 3",
   "language": "python",
   "name": "python3"
  },
  "language_info": {
   "codemirror_mode": {
    "name": "ipython",
    "version": 3
   },
   "file_extension": ".py",
   "mimetype": "text/x-python",
   "name": "python",
   "nbconvert_exporter": "python",
   "pygments_lexer": "ipython3",
   "version": "3.10.13"
  },
  "papermill": {
   "default_parameters": {},
   "duration": 4.390756,
   "end_time": "2024-05-08T00:11:04.562324",
   "environment_variables": {},
   "exception": null,
   "input_path": "__notebook__.ipynb",
   "output_path": "__notebook__.ipynb",
   "parameters": {},
   "start_time": "2024-05-08T00:11:00.171568",
   "version": "2.5.0"
  }
 },
 "nbformat": 4,
 "nbformat_minor": 5
}
